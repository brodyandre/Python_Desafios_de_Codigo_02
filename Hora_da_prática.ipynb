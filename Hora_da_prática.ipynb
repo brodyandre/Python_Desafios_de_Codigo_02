{
  "nbformat": 4,
  "nbformat_minor": 0,
  "metadata": {
    "colab": {
      "provenance": [],
      "toc_visible": true,
      "include_colab_link": true
    },
    "kernelspec": {
      "name": "python3",
      "display_name": "Python 3"
    },
    "language_info": {
      "name": "python"
    }
  },
  "cells": [
    {
      "cell_type": "markdown",
      "metadata": {
        "id": "view-in-github",
        "colab_type": "text"
      },
      "source": [
        "<a href=\"https://colab.research.google.com/github/brodyandre/Python_Desafios_de_Codigo_02/blob/main/Hora_da_pr%C3%A1tica.ipynb\" target=\"_parent\"><img src=\"https://colab.research.google.com/assets/colab-badge.svg\" alt=\"Open In Colab\"/></a>"
      ]
    },
    {
      "cell_type": "markdown",
      "source": [
        "# Sobre o notebook\n",
        "\n",
        "A \"hora da prática\" é uma atividade do curso de Python para Data Science da Alura que contém diversos desafios envolvendo os aprendizados de cada aula.\n",
        "\n",
        "O notebook \"hora da prática\" é um notebook construído com espaço para as células dos desafios propostos no curso, com ele você tem espaço para construir e executar suas soluções"
      ],
      "metadata": {
        "id": "_kwAaQ36gLQ1"
      }
    },
    {
      "cell_type": "markdown",
      "source": [
        "## Aula 1 - Bibliotecas"
      ],
      "metadata": {
        "id": "Mc-KN0dA0Z83"
      }
    },
    {
      "cell_type": "markdown",
      "source": [
        "### Aquecimento"
      ],
      "metadata": {
        "id": "Dq02fNPCl_JV"
      }
    },
    {
      "cell_type": "markdown",
      "source": [
        "#### Questão 1\n",
        "\n",
        "Escreva um código para instalar a versão `3.7.1` da biblioteca `matplotlib`"
      ],
      "metadata": {
        "id": "l5eLWf0W0ikn"
      }
    },
    {
      "cell_type": "code",
      "source": [
        "!pip install matplotlib==3.7.1"
      ],
      "metadata": {
        "id": "m4b6NquSaj3q",
        "colab": {
          "base_uri": "https://localhost:8080/",
          "height": 515
        },
        "outputId": "4de00fe2-6e52-448d-9953-aa2344ef7326"
      },
      "execution_count": 1,
      "outputs": [
        {
          "output_type": "stream",
          "name": "stdout",
          "text": [
            "Collecting matplotlib==3.7.1\n",
            "  Downloading matplotlib-3.7.1-cp311-cp311-manylinux_2_17_x86_64.manylinux2014_x86_64.whl.metadata (5.6 kB)\n",
            "Requirement already satisfied: contourpy>=1.0.1 in /usr/local/lib/python3.11/dist-packages (from matplotlib==3.7.1) (1.3.1)\n",
            "Requirement already satisfied: cycler>=0.10 in /usr/local/lib/python3.11/dist-packages (from matplotlib==3.7.1) (0.12.1)\n",
            "Requirement already satisfied: fonttools>=4.22.0 in /usr/local/lib/python3.11/dist-packages (from matplotlib==3.7.1) (4.56.0)\n",
            "Requirement already satisfied: kiwisolver>=1.0.1 in /usr/local/lib/python3.11/dist-packages (from matplotlib==3.7.1) (1.4.8)\n",
            "Requirement already satisfied: numpy>=1.20 in /usr/local/lib/python3.11/dist-packages (from matplotlib==3.7.1) (2.0.2)\n",
            "Requirement already satisfied: packaging>=20.0 in /usr/local/lib/python3.11/dist-packages (from matplotlib==3.7.1) (24.2)\n",
            "Requirement already satisfied: pillow>=6.2.0 in /usr/local/lib/python3.11/dist-packages (from matplotlib==3.7.1) (11.1.0)\n",
            "Requirement already satisfied: pyparsing>=2.3.1 in /usr/local/lib/python3.11/dist-packages (from matplotlib==3.7.1) (3.2.3)\n",
            "Requirement already satisfied: python-dateutil>=2.7 in /usr/local/lib/python3.11/dist-packages (from matplotlib==3.7.1) (2.8.2)\n",
            "Requirement already satisfied: six>=1.5 in /usr/local/lib/python3.11/dist-packages (from python-dateutil>=2.7->matplotlib==3.7.1) (1.17.0)\n",
            "Downloading matplotlib-3.7.1-cp311-cp311-manylinux_2_17_x86_64.manylinux2014_x86_64.whl (11.6 MB)\n",
            "\u001b[2K   \u001b[90m━━━━━━━━━━━━━━━━━━━━━━━━━━━━━━━━━━━━━━━━\u001b[0m \u001b[32m11.6/11.6 MB\u001b[0m \u001b[31m21.0 MB/s\u001b[0m eta \u001b[36m0:00:00\u001b[0m\n",
            "\u001b[?25hInstalling collected packages: matplotlib\n",
            "  Attempting uninstall: matplotlib\n",
            "    Found existing installation: matplotlib 3.10.0\n",
            "    Uninstalling matplotlib-3.10.0:\n",
            "      Successfully uninstalled matplotlib-3.10.0\n",
            "\u001b[31mERROR: pip's dependency resolver does not currently take into account all the packages that are installed. This behaviour is the source of the following dependency conflicts.\n",
            "plotnine 0.14.5 requires matplotlib>=3.8.0, but you have matplotlib 3.7.1 which is incompatible.\u001b[0m\u001b[31m\n",
            "\u001b[0mSuccessfully installed matplotlib-3.7.1\n"
          ]
        },
        {
          "output_type": "display_data",
          "data": {
            "application/vnd.colab-display-data+json": {
              "pip_warning": {
                "packages": [
                  "matplotlib",
                  "mpl_toolkits"
                ]
              },
              "id": "b222e0e09e2e4210b3fe60e0444fc871"
            }
          },
          "metadata": {}
        }
      ]
    },
    {
      "cell_type": "markdown",
      "source": [
        "#### Questão 2\n",
        "\n",
        "Escreva um código para importar a biblioteca `numpy` com o alias `np`"
      ],
      "metadata": {
        "id": "tQdX90Ue03c7"
      }
    },
    {
      "cell_type": "code",
      "source": [
        "import numpy as np"
      ],
      "metadata": {
        "id": "Gh8aZUwaakuT"
      },
      "execution_count": 1,
      "outputs": []
    },
    {
      "cell_type": "markdown",
      "source": [
        "#### Questão 3\n",
        "Crie um programa que lê a seguinte lista de números e escolha um número desta aleatoriamente.\n",
        "```\n",
        "lista = [8, 12, 54, 23, 43, 1, 90, 87, 105, 77]\n",
        "```"
      ],
      "metadata": {
        "id": "gfg-aiip03vC"
      }
    },
    {
      "cell_type": "code",
      "source": [
        "import random\n",
        "\n",
        "# Lista de números\n",
        "lista = [8, 12, 54, 23, 43, 1, 90, 87, 105, 77]\n",
        "\n",
        "# Escolher um número aleatoriamente da lista\n",
        "numero_aleatorio = random.choice(lista)\n",
        "\n",
        "# Exibir o número escolhido\n",
        "print(f\"O número escolhido aleatoriamente é: {numero_aleatorio}\")\n"
      ],
      "metadata": {
        "id": "Sla71KJQalws",
        "colab": {
          "base_uri": "https://localhost:8080/"
        },
        "outputId": "318632c7-76b1-42a0-c9ea-68aecbf621f3"
      },
      "execution_count": 3,
      "outputs": [
        {
          "output_type": "stream",
          "name": "stdout",
          "text": [
            "O número aleatório escolhido e: 43\n"
          ]
        }
      ]
    },
    {
      "cell_type": "markdown",
      "source": [
        "#### Questão 4\n",
        "\n",
        "Crie um programa que sorteia aleatoriamente um número inteiro menor que 100.\n",
        "> Dica: use a função [`randrange()`](https://docs.python.org/3/library/random.html#random.randrange) da biblioteca `random`. Essa função recebe como parâmetro o valor limite para a escolha aleatória ou um intervalo se passado o limite mínimo e máximo. Por exemplo, `randrange(5)` gera valores inteiros menores que 5.\n"
      ],
      "metadata": {
        "id": "oadrJbl704MM"
      }
    },
    {
      "cell_type": "code",
      "source": [
        "from random import randrange\n",
        "\n",
        "# Sortear um número inteiro aleatório menor que 100\n",
        "numero_aleatorio = randrange(100)\n",
        "\n",
        "# Exibir o número gerado\n",
        "print(f\"O número aleatório sorteado é: {numero_aleatorio}\")"
      ],
      "metadata": {
        "id": "UZSpqpOuanFT",
        "colab": {
          "base_uri": "https://localhost:8080/"
        },
        "outputId": "c9d3a811-9479-4f98-f53c-521d5bd73180"
      },
      "execution_count": 6,
      "outputs": [
        {
          "output_type": "stream",
          "name": "stdout",
          "text": [
            "O número aleatório sorteado é: 85\n"
          ]
        }
      ]
    },
    {
      "cell_type": "markdown",
      "source": [
        "#### Questão 5\n",
        "Crie um programa que solicite à pessoa usuária digitar dois números inteiros e calcular a potência do 1º número elevado ao 2º.\n",
        "> Dica: use a função [`pow()`](https://docs.python.org/3/library/random.html#random.randrange) da biblioteca `math`\n"
      ],
      "metadata": {
        "id": "3RgyMaan04TD"
      }
    },
    {
      "cell_type": "code",
      "source": [
        "import math\n",
        "\n",
        "# Solicitar ao usuário para digitar dois números inteiros\n",
        "numero1 = int(input(\"Digite o primeiro número inteiro: \"))\n",
        "numero2 = int(input(\"Digite o segundo número inteiro: \"))\n",
        "\n",
        "# Calcular a potência do primeiro número elevado ao segundo\n",
        "resultado = math.pow(numero1, numero2)\n",
        "\n",
        "# Exibir o resultado\n",
        "print(f\"{numero1} elevado a {numero2} é igual a: {resultado}\")"
      ],
      "metadata": {
        "id": "UOzl8la0aoBd",
        "colab": {
          "base_uri": "https://localhost:8080/"
        },
        "outputId": "7fffaea2-df06-475f-b7b9-7a476cdc947a"
      },
      "execution_count": 9,
      "outputs": [
        {
          "output_type": "stream",
          "name": "stdout",
          "text": [
            "Digite o primeiro número inteiro: 2\n",
            "Digite o segundo número inteiro: 6\n",
            "2 elevado a 6 é igual a: 64.0\n"
          ]
        }
      ]
    },
    {
      "cell_type": "markdown",
      "source": [
        "### Aplicando a projetos"
      ],
      "metadata": {
        "id": "ieCkWjvEmJU0"
      }
    },
    {
      "cell_type": "markdown",
      "source": [
        "#### Questão 6\n",
        "Um programa deve ser escrito para sortear uma pessoa seguidora de uma rede social para ganhar um prêmio. A lista de participantes é numerada e devemos escolher aleatoriamente um número de acordo com a quantidade de participantes.\n",
        "\n",
        "Peça à pessoa usuária para fornecer o número de participantes do sorteio e devolva para ela o número sorteado."
      ],
      "metadata": {
        "id": "0rS4QHP1mXQE"
      }
    },
    {
      "cell_type": "code",
      "source": [
        "from random import randrange\n",
        "\n",
        "# Solicitar ao usuário o número de participantes\n",
        "num_participantes = int(input(\"Digite o número de participantes do sorteio: \"))\n",
        "\n",
        "# Sortear um número aleatório entre 1 e num_participantes (inclusive)\n",
        "numero_sorteado = randrange(1, num_participantes + 1)\n",
        "\n",
        "# Exibir o número sorteado\n",
        "print(f\"O número sorteado foi: {numero_sorteado}\")"
      ],
      "metadata": {
        "id": "G4k5jUdAao8t",
        "colab": {
          "base_uri": "https://localhost:8080/"
        },
        "outputId": "b150cafb-74b0-4521-feb3-025181280d8b"
      },
      "execution_count": 14,
      "outputs": [
        {
          "output_type": "stream",
          "name": "stdout",
          "text": [
            "Digite o número de participantes do sorteio: 100\n",
            "O número sorteado foi: 16\n"
          ]
        }
      ]
    },
    {
      "cell_type": "markdown",
      "source": [
        "#### Questão 7\n",
        "\n",
        "Você recebeu uma demanda para gerar números de token para o acesso ao aplicativo de uma empresa. O token precisa ser par e variar de 1000 até 9998. Escreva um código que solicita à pessoa usuária o seu nome e gera uma mensagem junto a esse token gerado aleatoriamente:\n",
        "\n",
        "`\"Olá, [nome], o seu token de acesso é [token]! Seja bem-vindo(a)!\"`"
      ],
      "metadata": {
        "id": "9D6cd4tomhSi"
      }
    },
    {
      "cell_type": "code",
      "source": [
        "import random\n",
        "\n",
        "# Solicitar o nome da pessoa usuária\n",
        "nome = input(\"Digite o seu nome: \")\n",
        "\n",
        "# Gerar um token par aleatório entre 1000 e 9998\n",
        "# O randrange(1000, 9999, 2) gera números pares, começando em 1000 até 9998\n",
        "token = random.randrange(1000, 9999, 2)\n",
        "\n",
        "# Exibir a mensagem com o token gerado\n",
        "print(f\"Olá, {nome}, o seu token de acesso é {token}! Seja bem-vindo(a)!\")"
      ],
      "metadata": {
        "id": "Y4ACJ4rEaqQW",
        "colab": {
          "base_uri": "https://localhost:8080/"
        },
        "outputId": "97e5b497-e705-4cad-b835-370c74688d0a"
      },
      "execution_count": 16,
      "outputs": [
        {
          "output_type": "stream",
          "name": "stdout",
          "text": [
            "Digite o seu nome: Luiz\n",
            "Olá, Luiz, o seu token de acesso é 4934! Seja bem-vindo(a)!\n"
          ]
        }
      ]
    },
    {
      "cell_type": "markdown",
      "source": [
        "#### Questão 7\n",
        "\n",
        "Você recebeu uma demanda para gerar números de token para o acesso ao aplicativo de uma empresa. O token precisa ser par e variar de 1000 até 9998. Escreva um código que solicita à pessoa usuária o seu nome e gera uma mensagem junto a esse token gerado aleatoriamente:\n",
        "\n",
        "`\"Olá, [nome], o seu token de acesso é [token]! Seja bem-vindo(a)!\"`"
      ],
      "metadata": {
        "id": "xfCULrQiA54P"
      }
    },
    {
      "cell_type": "markdown",
      "source": [
        "#### Questão 8\n",
        "Para diversificar e atrair novos clientes, uma lanchonete criou um item misterioso em seu cardápio chamado \"salada de frutas surpresa\". Neste item, são escolhidas aleatoriamente 3 frutas de uma lista de 12 frutas para compor a salada de frutas da pessoa cliente.\n",
        "\n",
        "Crie o código que faça essa seleção aleatória de acordo com a lista abaixo:\n",
        "\n",
        "```\n",
        "frutas = [\"maçã\", \"banana\", \"uva\", \"pêra\",\n",
        "          \"manga\", \"coco\", \"melancia\", \"mamão\",\n",
        "          \"laranja\", \"abacaxi\", \"kiwi\", \"ameixa\"]\n",
        "```"
      ],
      "metadata": {
        "id": "FHJHH_WemhFJ"
      }
    },
    {
      "cell_type": "code",
      "source": [
        "import random\n",
        "\n",
        "# Lista de frutas\n",
        "frutas = [\n",
        "    \"maçã\", \"banana\", \"uva\", \"pêra\",\n",
        "    \"manga\", \"coco\", \"melancia\", \"mamão\",\n",
        "    \"laranja\", \"abacaxi\", \"kiwi\", \"ameixa\"\n",
        "]\n",
        "\n",
        "# Selecionar aleatoriamente 3 frutas da lista\n",
        "frutas_selecionadas = random.sample(frutas, 3)\n",
        "\n",
        "# Exibir as frutas selecionadas\n",
        "print(f\"As frutas selecionadas para a salada de frutas surpresa são: {', '.join(frutas_selecionadas)}.\")"
      ],
      "metadata": {
        "id": "gR0BNVGoarOv",
        "colab": {
          "base_uri": "https://localhost:8080/"
        },
        "outputId": "783e5c80-add2-4a06-ecc8-6c3dea0c1c93"
      },
      "execution_count": 18,
      "outputs": [
        {
          "output_type": "stream",
          "name": "stdout",
          "text": [
            "As frutas selecionadas para a salada de frutas surpresa são: coco, pêra, abacaxi.\n"
          ]
        }
      ]
    },
    {
      "cell_type": "markdown",
      "source": [
        "#### Questão 9\n",
        "Você recebeu um desafio de calcular a raiz quadrada de uma lista de números, identificando quais resultaram em um número inteiro. A lista é a seguinte:\n",
        "```\n",
        "numeros = [2, 8, 15, 23, 91, 112, 256]\n",
        "```\n",
        "\n",
        "Informe no final quais números possuem raízes inteiras e seus respectivos valores.\n",
        "\n",
        "> Dica: use a comparação entre a divisão inteira da raiz por 1 com o valor da raiz para verificar se o número é inteiro. Por exemplo:\n",
        "```\n",
        "num = 1.5\n",
        "num_2 = 2\n",
        "print(f'{num} é inteiro? :', num // 1 == num)\n",
        "print(f'{num_2} é inteiro? :', num_2 // 1 == num_2)\n",
        "```\n",
        "Saída:\n",
        "```\n",
        "1.5 é inteiro? : False\n",
        "2 é inteiro? : True\n",
        "```"
      ],
      "metadata": {
        "id": "m_voDwY9mhNJ"
      }
    },
    {
      "cell_type": "code",
      "source": [
        "import math\n",
        "\n",
        "# Lista de números\n",
        "numeros = [2, 8, 15, 23, 64, 91, 112, 256]\n",
        "\n",
        "# Calcular a raiz quadrada e verificar se é inteira\n",
        "for numero in numeros:\n",
        "    raiz = math.sqrt(numero)\n",
        "    # Verifica se a raiz é um número inteiro\n",
        "    is_inteiro = raiz // 1 == raiz\n",
        "    print(f'{raiz} é inteiro? : {is_inteiro}')\n",
        "\n",
        "    # Se for inteiro, exibir o número e sua raiz\n",
        "    if is_inteiro:\n",
        "        print(f\"Número: {numero}, Raiz quadrada: {int(raiz)}\")"
      ],
      "metadata": {
        "id": "80eu9G8HaswW",
        "colab": {
          "base_uri": "https://localhost:8080/"
        },
        "outputId": "0ad327bc-a44c-41b4-e077-eb3cf71a2a8b"
      },
      "execution_count": 33,
      "outputs": [
        {
          "output_type": "stream",
          "name": "stdout",
          "text": [
            "1.4142135623730951 é inteiro? : False\n",
            "2.8284271247461903 é inteiro? : False\n",
            "3.872983346207417 é inteiro? : False\n",
            "4.795831523312719 é inteiro? : False\n",
            "8.0 é inteiro? : True\n",
            "Número: 64, Raiz quadrada: 8\n",
            "9.539392014169456 é inteiro? : False\n",
            "10.583005244258363 é inteiro? : False\n",
            "16.0 é inteiro? : True\n",
            "Número: 256, Raiz quadrada: 16\n"
          ]
        }
      ]
    },
    {
      "cell_type": "markdown",
      "source": [
        "#### Questão 10\n",
        "Faça um programa para uma loja que vende grama para jardins. Essa loja trabalha com jardins circulares e o preço do metro quadrado da grama é de R$ 25,00. Peça à pessoa usuária o raio da área circular e devolva o valor em reais do quanto precisará pagar.  \n",
        "\n",
        "> Dica: use a variável [`pi`](https://docs.python.org/pt-br/3/library/math.html#math.pi) e o método [`pow()`](https://docs.python.org/3/library/random.html#random.randrange) da biblioteca `math`. O cálculo de área de um círculo é de: $Area = \\pi \\times r^2$"
      ],
      "metadata": {
        "id": "dBl0iKd7mhYA"
      }
    },
    {
      "cell_type": "code",
      "source": [
        "import math\n",
        "\n",
        "# Preço do metro quadrado da grama\n",
        "preco_por_metro_quadrado = 25.00\n",
        "\n",
        "# Solicitar o raio da área circular ao usuário\n",
        "raio = float(input(\"Digite o raio do jardim circular em metros: \"))\n",
        "\n",
        "# Calcular a área do círculo\n",
        "area = math.pi * math.pow(raio, 2)\n",
        "\n",
        "# Calcular o custo total\n",
        "custo_total = area * preco_por_metro_quadrado\n",
        "\n",
        "# Exibir o resultado\n",
        "print(f\"A área do jardim circular é: {area:.2f} metros quadrados.\")\n",
        "print(f\"O custo total para cobrir essa área com grama é: R$ {custo_total:.2f}\")"
      ],
      "metadata": {
        "id": "VK0RHwYIattI",
        "colab": {
          "base_uri": "https://localhost:8080/"
        },
        "outputId": "cd44faac-b065-4d85-f142-d9e7627349ca"
      },
      "execution_count": 35,
      "outputs": [
        {
          "output_type": "stream",
          "name": "stdout",
          "text": [
            "Digite o raio do jardim circular em metros: 3\n",
            "A área do jardim circular é: 28.27 metros quadrados.\n",
            "O custo total para cobrir essa área com grama é: R$ 706.86\n"
          ]
        }
      ]
    },
    {
      "cell_type": "markdown",
      "source": [
        "## Aula 2 - Funções"
      ],
      "metadata": {
        "id": "D9e3FqhO1S3X"
      }
    },
    {
      "cell_type": "markdown",
      "source": [
        "### Aquecimento"
      ],
      "metadata": {
        "id": "DTBxjtxXa1dz"
      }
    },
    {
      "cell_type": "markdown",
      "source": [
        "#### Questão 1\n",
        "\n",
        "Escreva um código que lê a lista abaixo e faça:\n",
        "\n",
        "```\n",
        "lista = [16, 14, 63, 65, 17, 99, 70, 11, 20, 48, 79, 32, 17, 89, 12, 25, 66]\n",
        "```\n",
        "\n",
        "- A leitura do tamanho da lista\n",
        "- A leitura do maior e menor valor\n",
        "- A soma dos valores da lista\n",
        "\n",
        "Ao final exiba uma mensagem dizendo:\n",
        "\n",
        "```\n",
        "\"A lista possui [tam] números em que o maior número é [maior] e o menor número é [menor]. A soma dos valores pares presentes nela é igual a [soma]\"\n",
        "```\n",
        "\n",
        "> Dica: use as funções embutidas presentes na [documentação do Python](https://docs.python.org/3/library/functions.html)\n"
      ],
      "metadata": {
        "id": "dedVZJ3fa1dz"
      }
    },
    {
      "cell_type": "code",
      "source": [
        "# Lista de Numeros\n",
        "lista = [16, 14, 63, 65, 17, 99, 70, 11, 20, 48, 79, 32, 17, 89, 12, 25, 66]\n",
        "\n",
        "# Tamanho da lista\n",
        "tam = len(lista)\n",
        "\n",
        "#maior e menor valor\n",
        "maior = max(lista)\n",
        "menor = min(lista)\n",
        "\n",
        "#Soma dos valores pares\n",
        "soma = sum(num for num in lista if num % 2 == 0)\n",
        "\n",
        "# Exibir mensagem\n",
        "print(f\"A lista possui {tam} números em que o maior número é {maior} e o menor número é {menor}. A soma dos valores pares presentes nela é igual a {soma}.\")"
      ],
      "metadata": {
        "id": "KrGD5Nl5a1dz",
        "colab": {
          "base_uri": "https://localhost:8080/"
        },
        "outputId": "7f94c4ab-897a-4fb7-95b2-4122f9a362e7"
      },
      "execution_count": 36,
      "outputs": [
        {
          "output_type": "stream",
          "name": "stdout",
          "text": [
            "A lista possui 17 números em que o maior número é 99 e o menor número é 11. A soma dos valores pares presentes nela é igual a 278.\n"
          ]
        }
      ]
    },
    {
      "cell_type": "markdown",
      "source": [
        "#### Questão 2\n",
        "\n",
        "Escreva uma função que gere a tabuada de um número inteiro de 1 a 10, de acordo com a escolha da pessoa usuária. Como exemplo, para o número 7, a tabuada deve ser mostrada no seguinte formato:\n",
        "```\n",
        "Tabuada do 7:\n",
        "7 x 0 = 0\n",
        "7 x 1 = 7\n",
        "[...]\n",
        "7 x 10 = 70\n",
        "```\n"
      ],
      "metadata": {
        "id": "435rt7sha1dz"
      }
    },
    {
      "cell_type": "code",
      "source": [
        "def tabuada(numero):\n",
        "    print(f\"Tabuada do {numero}:\")\n",
        "    for i in range(11):  # De 0 a 10\n",
        "        resultado = numero * i\n",
        "        print(f\"{numero} x {i} = {resultado}\")\n",
        "\n",
        "# Solicitar ao usuário que insira um número\n",
        "numero_usuario = int(input(\"Digite um número inteiro de 1 a 10 para ver a tabuada: \"))\n",
        "\n",
        "# Chamar a função para gerar a tabuada\n",
        "tabuada(numero_usuario)"
      ],
      "metadata": {
        "id": "DxHuhb19a1d0",
        "colab": {
          "base_uri": "https://localhost:8080/"
        },
        "outputId": "4bc0e0e0-e917-40f8-aa1c-08e185bc0ea8"
      },
      "execution_count": 37,
      "outputs": [
        {
          "output_type": "stream",
          "name": "stdout",
          "text": [
            "Digite um número inteiro de 1 a 10 para ver a tabuada: 3\n",
            "Tabuada do 3:\n",
            "3 x 0 = 0\n",
            "3 x 1 = 3\n",
            "3 x 2 = 6\n",
            "3 x 3 = 9\n",
            "3 x 4 = 12\n",
            "3 x 5 = 15\n",
            "3 x 6 = 18\n",
            "3 x 7 = 21\n",
            "3 x 8 = 24\n",
            "3 x 9 = 27\n",
            "3 x 10 = 30\n"
          ]
        }
      ]
    },
    {
      "cell_type": "markdown",
      "source": [
        "#### Questão 3\n",
        "Crie a função que leia a lista abaixo e retorne uma nova lista com os múltiplos de 3:\n",
        "\n",
        "```\n",
        "[97, 80, 94, 88, 80, 1, 16, 53, 62, 32, 24, 99]\n",
        "```\n",
        "\n",
        "Utilize o `return` na função e salve a nova lista na variável `mult_3`."
      ],
      "metadata": {
        "id": "OwoNphMPa1d0"
      }
    },
    {
      "cell_type": "code",
      "source": [
        "def encontrar_multiplos_de_tres(lista):\n",
        "    # Cria uma nova lista para armazenar os múltiplos de 3\n",
        "    multiplos = []\n",
        "\n",
        "    # Itera sobre cada número na lista original\n",
        "    for numero in lista:\n",
        "        # Verifica se o número é múltiplo de 3\n",
        "        if numero % 3 == 0:\n",
        "            multiplos.append(numero)  # Adiciona à nova lista\n",
        "\n",
        "    return multiplos  # Retorna a nova lista\n",
        "\n",
        "# Lista fornecida\n",
        "lista_original = [97, 80, 94, 88, 80, 1, 16, 53, 62, 32, 24, 99]\n",
        "\n",
        "# Chama a função e salva o resultado na variável mult_3\n",
        "mult_3 = encontrar_multiplos_de_tres(lista_original)\n",
        "\n",
        "# Exibe a nova lista com os múltiplos de 3\n",
        "print('Os multiplos de 3 são: ' ,mult_3)"
      ],
      "metadata": {
        "id": "kYrKxhd8a1d0",
        "colab": {
          "base_uri": "https://localhost:8080/"
        },
        "outputId": "8ad2c655-5aec-4a64-e0d8-f88e0cdffde6"
      },
      "execution_count": 39,
      "outputs": [
        {
          "output_type": "stream",
          "name": "stdout",
          "text": [
            "Os multiplos de 3 são:  [24, 99]\n"
          ]
        }
      ]
    },
    {
      "cell_type": "markdown",
      "source": [
        "#### Questão 4\n",
        "Crie uma lista dos quadrados dos números da seguinte lista `[1, 2, 3, 4, 5, 6, 7, 8, 9, 10]`.\n",
        "\n",
        "Lembre-se de utilizar as funções lambda e `map()` para calcular o quadrado de cada elemento da lista.\n"
      ],
      "metadata": {
        "id": "kFkuo_SUa1d0"
      }
    },
    {
      "cell_type": "code",
      "source": [
        "# Etapa 1: Definir a lista original\n",
        "lista_original = [1, 2, 3, 4, 5, 6, 7, 8, 9, 10]\n",
        "\n",
        "# Etapa 2: Criar uma função lambda para calcular o quadrado\n",
        "quadrado = lambda x: x ** 2\n",
        "\n",
        "# Etapa 3: Utilizar a função map() para aplicar a função lambda\n",
        "mapa_quadrados = map(quadrado, lista_original)\n",
        "\n",
        "# Etapa 4: Converter o mapa para uma lista\n",
        "lista_quadrados = list(mapa_quadrados)\n",
        "\n",
        "# Etapa 5: Exibir a nova lista\n",
        "print(lista_quadrados)"
      ],
      "metadata": {
        "id": "Iav68EpKa1d0",
        "colab": {
          "base_uri": "https://localhost:8080/"
        },
        "outputId": "e10cb935-8228-4c97-ca15-12929149cf3e"
      },
      "execution_count": 1,
      "outputs": [
        {
          "output_type": "stream",
          "name": "stdout",
          "text": [
            "[1, 4, 9, 16, 25, 36, 49, 64, 81, 100]\n"
          ]
        }
      ]
    },
    {
      "cell_type": "markdown",
      "source": [
        "### Aplicando a projetos"
      ],
      "metadata": {
        "id": "PX7G0Qgha1d0"
      }
    },
    {
      "cell_type": "markdown",
      "source": [
        "#### Questão 5\n",
        "\n",
        "Você foi contratado(a) como cientista de dados de uma associação de skate. Para analisar as notas recebidas dos(as) skatistas em algumas competições ao longo do ano, você precisa criar um código que calcula a pontuação dos(as) atletas. Para isso, o seu código deve receber 5 notas digitadas pelas pessoas juradas.\n",
        "\n",
        "Para calcular a pontuação de um(a) skatista, você precisa eliminar a maior e a menor pontuação dentre as 5 notas e tirar a média das 3 notas que sobraram.\n",
        "\n",
        "Retorne a média para apresentar o texto:\n",
        "`\"Nota da manobra: [media]\"`\n",
        "\n"
      ],
      "metadata": {
        "id": "oVWgrilxa1d0"
      }
    },
    {
      "cell_type": "code",
      "source": [
        "def calcular_nota_manobra():\n",
        "    notas = []\n",
        "\n",
        "    while len(notas) < 5:\n",
        "        try:\n",
        "            # Solicita a entrada do usuário\n",
        "            nota = float(input(f\"Digite a nota {len(notas) + 1} (entre 0 e 10): \"))\n",
        "\n",
        "            # Verifica se a nota está dentro do intervalo permitido\n",
        "            if nota < 0 or nota > 10:\n",
        "                print(\"Erro: A nota deve estar entre 0 e 10. Tente novamente.\")\n",
        "                continue\n",
        "\n",
        "            # Adiciona a nota à lista\n",
        "            notas.append(nota)\n",
        "\n",
        "        except ValueError:\n",
        "            print(\"Erro: Entrada inválida. Por favor, insira um número.\")\n",
        "\n",
        "    # Eliminar a maior e a menor nota\n",
        "    maior_nota = max(notas)\n",
        "    menor_nota = min(notas)\n",
        "\n",
        "    # Remove a maior e a menor nota\n",
        "    notas.remove(maior_nota)\n",
        "    notas.remove(menor_nota)\n",
        "\n",
        "    # Calcular a média das notas restantes\n",
        "    media = sum(notas) / len(notas)  # Soma as notas restantes e divide pelo número de notas\n",
        "\n",
        "    # Exibir a média\n",
        "    print(f\"Nota da manobra: {media:.2f}\")  # Exibe a média formatada com duas casas decimais\n",
        "\n",
        "# Chama a função para executar o cálculo\n",
        "calcular_nota_manobra()"
      ],
      "metadata": {
        "id": "1nbQ-hIRa1d0",
        "colab": {
          "base_uri": "https://localhost:8080/"
        },
        "outputId": "236350ec-ddf4-4b06-adf6-b988398df561"
      },
      "execution_count": 3,
      "outputs": [
        {
          "output_type": "stream",
          "name": "stdout",
          "text": [
            "Digite a nota 1 (entre 0 e 10): 7,9\n",
            "Erro: Entrada inválida. Por favor, insira um número.\n",
            "Digite a nota 1 (entre 0 e 10): 7\n",
            "Digite a nota 2 (entre 0 e 10): 8\n",
            "Digite a nota 3 (entre 0 e 10): 5\n",
            "Digite a nota 4 (entre 0 e 10): 6\n",
            "Digite a nota 5 (entre 0 e 10): 8\n",
            "Nota da manobra: 7.00\n"
          ]
        }
      ]
    },
    {
      "cell_type": "markdown",
      "source": [
        "#### Questão 6\n",
        "\n",
        "Para atender a uma demanda de uma instituição de ensino para a análise do desempenho de seus(suas) estudantes, você precisa criar uma função que receba uma lista de 4 notas e retorne:\n",
        "- maior nota\n",
        "- menor nota\n",
        "- média\n",
        "- situação (Aprovado(a) ou Reprovado(a))\n",
        "\n",
        "Para testar o comportamento da função, os dados podem ser exibidos em um texto:\n",
        "```\n",
        "\"O(a) estudante obteve uma media de [media], com a sua maior nota de [maior] pontos e a menor nota de [menor] pontos e foi [situacao]\"\n",
        "```"
      ],
      "metadata": {
        "id": "p3MnWjnda1d0"
      }
    },
    {
      "cell_type": "code",
      "source": [
        "def analisar_desempenho(notas):\n",
        "    # Tratamento de erros: Verifica se a lista contém exatamente 4 notas\n",
        "    if len(notas) != 4:\n",
        "        return \"Erro: A lista deve conter exatamente 4 notas.\"\n",
        "\n",
        "    # Tratamento de erros: Verifica se todas as notas são numéricas\n",
        "    for nota in notas:\n",
        "        if not isinstance(nota, (int, float)):\n",
        "            return \"Erro: Todas as notas devem ser números.\"\n",
        "\n",
        "    # Cálculo da maior e menor nota\n",
        "    maior_nota = max(notas)\n",
        "    menor_nota = min(notas)\n",
        "\n",
        "    # Cálculo da média\n",
        "    media = sum(notas) / len(notas)\n",
        "\n",
        "    # Determinação da situação\n",
        "    situacao = \"Aprovado(a)\" if media >= 7 else \"Reprovado(a)\"\n",
        "\n",
        "    # Formatação da mensagem\n",
        "    mensagem = (f\"O(a) estudante obteve uma média de {media:.2f}, \"\n",
        "                f\"com a sua maior nota de {maior_nota} pontos e a menor nota de {menor_nota} pontos \"\n",
        "                f\"e foi {situacao}.\")\n",
        "\n",
        "    return mensagem\n",
        "\n",
        "# Exemplo de uso da função\n",
        "notas_estudante = [8.5, 2.0, 1.0, 6.5]\n",
        "resultado = analisar_desempenho(notas_estudante)\n",
        "print(resultado)"
      ],
      "metadata": {
        "id": "5Bx-K65ya1d0",
        "colab": {
          "base_uri": "https://localhost:8080/"
        },
        "outputId": "a6cc495f-a478-4de0-caf2-57aae6ffb411"
      },
      "execution_count": 5,
      "outputs": [
        {
          "output_type": "stream",
          "name": "stdout",
          "text": [
            "O(a) estudante obteve uma média de 4.50, com a sua maior nota de 8.5 pontos e a menor nota de 1.0 pontos e foi Reprovado(a).\n"
          ]
        }
      ]
    },
    {
      "cell_type": "markdown",
      "source": [
        "#### Questão 7\n",
        "\n",
        "Você recebeu uma demanda para tratar 2 listas com os nomes e sobrenomes de cada estudante concatenando-as para apresentar seus nomes completos na forma `Nome Sobrenome`.\n",
        "\n",
        "As listas são:\n",
        "```\n",
        "nomes = [\"joão\", \"MaRia\", \"JOSÉ\"]\n",
        "sobrenomes = [\"SILVA\", \"souza\", \"Tavares\"]\n",
        "```\n",
        "\n",
        "O texto exibido ao fim deve ser parecido com:\n",
        "```\n",
        "\"Nome completo: Ana Silva\"\n",
        "```\n",
        "\n",
        "> Dica: Utilize a função map para mapear os nomes e sobrenomes e as funções de string para tratar o texto."
      ],
      "metadata": {
        "id": "_sPZj_x9a1d0"
      }
    },
    {
      "cell_type": "code",
      "source": [
        "# Definindo as listas de nomes e sobrenomes\n",
        "nomes = [\"joão\", \"MaRia\", \"JOSÉ\"]\n",
        "sobrenomes = [\"SILVA\", \"souza\", \"Tavares\"]\n",
        "\n",
        "# Função para formatar o nome e sobrenome\n",
        "def formatar_nome(nome, sobrenome):\n",
        "    return f\"{nome.capitalize()} {sobrenome.capitalize()}\"\n",
        "\n",
        "# Usando map para formatar os nomes e sobrenomes\n",
        "nomes_formatados = map(lambda n, s: formatar_nome(n, s), nomes, sobrenomes)\n",
        "\n",
        "# Convertendo o resultado para uma lista\n",
        "nomes_completos = list(nomes_formatados)\n",
        "\n",
        "# Exibindo os resultados\n",
        "for nome_completo in nomes_completos:\n",
        "    print(f\"Nome completo: {nome_completo}\")"
      ],
      "metadata": {
        "id": "SdPq27E-a1d0",
        "colab": {
          "base_uri": "https://localhost:8080/"
        },
        "outputId": "7253b32c-8d99-4c9d-8b56-d5401a680970"
      },
      "execution_count": 6,
      "outputs": [
        {
          "output_type": "stream",
          "name": "stdout",
          "text": [
            "Nome completo: João Silva\n",
            "Nome completo: Maria Souza\n",
            "Nome completo: José Tavares\n"
          ]
        }
      ]
    },
    {
      "cell_type": "markdown",
      "source": [
        "#### Questão 8\n",
        "Como cientista de dados em um time de futebol, você precisa implementar novas formas de coleta de dados sobre o desempenho de jogadores e do time como um todo.\n",
        "\n",
        "Sua primeira ação é criar uma forma de calcular a pontuação do time no campeonato nacional a partir dos dados de gols marcados e sofridos em cada jogo.\n",
        "\n",
        "Escreva uma função chamada `calcula_pontos` que recebe como parâmetros duas listas de números inteiros, representando os gols marcados e sofridos pelo time em cada partida do campeonato.\n",
        "\n",
        "A função deve retornar a pontuação do time e o aproveitamento em percentual, levando em consideração que a vitória vale 3 pontos, o empate vale 1 ponto e a derrota 0 pontos.\n",
        "\n",
        "> Observação: Se a quantidade de gols marcados numa partida for maior que a de sofridos, o time venceu. Caso seja igual, o time empatou e se for menor, o time perdeu. Para calcular o aproveitamento devemos fazer a razão entre a pontuação do time pela pontuação máxima que ele poderia receber.\n",
        "\n",
        "Para teste, utilize as seguintes listas de gols marcados e sofridos\n",
        "```\n",
        "gols_marcados = [2, 1, 3, 1, 0]\n",
        "gols_sofridos = [1, 2, 2, 1, 3]\n",
        "```\n",
        "\n",
        "Provável texto exibido:\n",
        "```\n",
        "\"A pontuação do time foi de [pontos] e seu aproveitamento foi de [aprov]%\"\n",
        "```\n"
      ],
      "metadata": {
        "id": "vC2D83mCa1d0"
      }
    },
    {
      "cell_type": "code",
      "source": [
        "def calcula_pontos(gols_marcados, gols_sofridos):\n",
        "    # Inicializa a pontuação total e o número de partidas\n",
        "    pontos = 0\n",
        "    num_partidas = len(gols_marcados)\n",
        "\n",
        "    # Calcula a pontuação\n",
        "    for i in range(num_partidas):\n",
        "        if gols_marcados[i] > gols_sofridos[i]:\n",
        "            pontos += 3  # Vitória\n",
        "        elif gols_marcados[i] == gols_sofridos[i]:\n",
        "            pontos += 1  # Empate\n",
        "        # Se for derrota, não adiciona pontos\n",
        "\n",
        "    # Calcula o aproveitamento\n",
        "    pontos_maximos = num_partidas * 3\n",
        "    aproveitamento = (pontos / pontos_maximos) * 100 if pontos_maximos > 0 else 0\n",
        "\n",
        "    return pontos, aproveitamento\n",
        "\n",
        "# Listas de gols marcados e sofridos para teste\n",
        "gols_marcados = [2, 1, 3, 1, 0]\n",
        "gols_sofridos = [1, 2, 2, 1, 3]\n",
        "\n",
        "# Chama a função e obtém os resultados\n",
        "pontos, aproveitamento = calcula_pontos(gols_marcados, gols_sofridos)\n",
        "\n",
        "# Exibe o resultado\n",
        "print(f\"A pontuação do time foi de {pontos} e seu aproveitamento foi de {aproveitamento:.2f}%\")"
      ],
      "metadata": {
        "id": "zxOwouhta1d0",
        "colab": {
          "base_uri": "https://localhost:8080/"
        },
        "outputId": "dc7caee7-171c-4088-face-d07e6ca6dddd"
      },
      "execution_count": 7,
      "outputs": [
        {
          "output_type": "stream",
          "name": "stdout",
          "text": [
            "A pontuação do time foi de 7 e seu aproveitamento foi de 46.67%\n"
          ]
        }
      ]
    },
    {
      "cell_type": "markdown",
      "source": [
        "#### Questão 9\n",
        "\n",
        "Você recebeu o desafio de criar um código que calcula os gastos de uma viagem para um das quatro cidades partindo de Recife: Salvador, Fortaleza, Natal e Aracaju.\n",
        "\n",
        "O custo da diária do hotel é de 150 reais em todas elas e o consumo de gasolina na viagem de carro é de 14 km/l, sendo que o valor da gasolina é de 5 reais o litro. O gastos com passeios e alimentação a se fazer em cada uma delas por dia seria de `[200, 400, 250, 300]`, respectivamente.\n",
        "\n",
        "Sabendo que as distâncias entre Recife e cada uma das cidades é de aproximadamente `[850, 800, 300, 550]` km, crie três funções nas quais a 1ª calcule os gastos com hotel (`gasto_hotel`), a 2ª calcule os gastos com a gasolina (`gasto_gasolina`) e a 3ª os gastos com passeio e alimentação (`gasto_passeio`).\n",
        "\n",
        "Para testar, simule uma viagem de 3 dias para Salvador partindo de Recife. Considere a viagem de ida e volta de carro.\n",
        "```\n",
        "\"Com base nos gastos definidos, uma viagem de [dias] dias para [cidade] saindo de Recife custaria [gastos] reais\"\n",
        "```\n"
      ],
      "metadata": {
        "id": "QrBlxV7Da1d0"
      }
    },
    {
      "cell_type": "code",
      "source": [
        "def gasto_hotel(dias):\n",
        "    \"\"\"Calcula o gasto total com hotel.\"\"\"\n",
        "    diaria = 150  # Custo da diária do hotel\n",
        "    return diaria * dias\n",
        "\n",
        "def gasto_gasolina(distancia):\n",
        "    \"\"\"Calcula o gasto total com gasolina.\"\"\"\n",
        "    consumo = 14  # km/l\n",
        "    preco_gasolina = 5  # R$ por litro\n",
        "    # Cálculo da quantidade de litros necessários para a viagem de ida e volta\n",
        "    litros_necessarios = (distancia / consumo) * 2  # Ida e volta\n",
        "    return litros_necessarios * preco_gasolina\n",
        "\n",
        "def gasto_passeio(dias, cidade):\n",
        "    \"\"\"Calcula o gasto total com passeios e alimentação.\"\"\"\n",
        "    gastos_por_cidade = {\n",
        "        \"Salvador\": 200,\n",
        "        \"Fortaleza\": 400,\n",
        "        \"Natal\": 250,\n",
        "        \"Aracaju\": 300\n",
        "    }\n",
        "    return gastos_por_cidade[cidade] * dias\n",
        "\n",
        "# Dados da viagem\n",
        "cidade = \"Salvador\"\n",
        "dias = 3\n",
        "distancias = {\n",
        "    \"Salvador\": 850,\n",
        "    \"Fortaleza\": 800,\n",
        "    \"Natal\": 300,\n",
        "    \"Aracaju\": 550\n",
        "}\n",
        "\n",
        "# Cálculo dos gastos\n",
        "gastos_hotel = gasto_hotel(dias)\n",
        "gastos_gasolina = gasto_gasolina(distancias[cidade])\n",
        "gastos_passeio = gasto_passeio(dias, cidade)\n",
        "\n",
        "# Cálculo total\n",
        "gasto_total = gastos_hotel + gastos_gasolina + gastos_passeio\n",
        "\n",
        "# Exibição dos resultados\n",
        "print(f\"Gastos com hotel: R$ {gastos_hotel:.2f}\")\n",
        "print(f\"Gastos com gasolina: R$ {gastos_gasolina:.2f}\")\n",
        "print(f\"Gastos com passeios e alimentação: R$ {gastos_passeio:.2f}\")\n",
        "print(f\"Gasto total da viagem: R$ {gasto_total:.2f}\")"
      ],
      "metadata": {
        "id": "VQyaLsnWa1d0",
        "colab": {
          "base_uri": "https://localhost:8080/"
        },
        "outputId": "96ed2753-68ed-4e36-b66c-868b74a51182"
      },
      "execution_count": 8,
      "outputs": [
        {
          "output_type": "stream",
          "name": "stdout",
          "text": [
            "Gastos com hotel: R$ 450.00\n",
            "Gastos com gasolina: R$ 607.14\n",
            "Gastos com passeios e alimentação: R$ 600.00\n",
            "Gasto total da viagem: R$ 1657.14\n"
          ]
        }
      ]
    },
    {
      "cell_type": "markdown",
      "source": [
        "#### Questão 10\n",
        "\n",
        "Você iniciou um estágio em uma empresa que trabalha com processamento de linguagem natural ([NLP](https://www.alura.com.br/artigos/guia-nlp-conceitos-tecnicas)). Sua líder requisitou que você criasse um trecho de código que recebe uma frase digitada pela pessoa usuária e filtre apenas as palavras com tamanho maior ou igual a 5, exibindo-as em uma lista. Essa demanda é voltada para a análise do padrão de comportamento de pessoas na escrita de palavras acima dessa quantidade de caracteres.\n",
        "\n",
        "> Dica: utilize as funções lambda e [`filter()`](https://docs.python.org/pt-br/3/library/functions.html?highlight=filter#filter) para filtrar essas palavras. Lembrando que a função embutida `filter()` recebe uma função (no nosso exemplo uma função lambda) e filtra um iterável de acordo com a função. Para tratar a frase use `replace()` para trocar a ',' '.', '!' e '?' por espaço.\n",
        "\n",
        "Use a frase `\"Aprender Python aqui na Alura é muito bom\"`para testar o código"
      ],
      "metadata": {
        "id": "Uae8o3eMa1d1"
      }
    },
    {
      "cell_type": "code",
      "source": [
        "# Frase a ser analisada\n",
        "frase = \"Aprender Python aqui na Alura é muito bom\"\n",
        "\n",
        "# Remover pontuações e dividir a frase em palavras\n",
        "frase_tratada = frase.replace(',', ' ').replace('.', ' ').replace('!', ' ').replace('?', ' ')\n",
        "palavras = frase_tratada.split()\n",
        "\n",
        "# Filtrar palavras com 5 ou mais caracteres\n",
        "palavras_filtradas = list(filter(lambda palavra: len(palavra) >= 5, palavras))\n",
        "\n",
        "# Exibir o resultado\n",
        "print(palavras_filtradas)"
      ],
      "metadata": {
        "id": "RNKCIcDJeBsX",
        "colab": {
          "base_uri": "https://localhost:8080/"
        },
        "outputId": "b98c0542-faac-4753-e58d-19d516444ca9"
      },
      "execution_count": 9,
      "outputs": [
        {
          "output_type": "stream",
          "name": "stdout",
          "text": [
            "['Aprender', 'Python', 'Alura', 'muito']\n"
          ]
        }
      ]
    },
    {
      "cell_type": "markdown",
      "source": [
        "## Aula 3 - Estrutura de dados compostas"
      ],
      "metadata": {
        "id": "u_KhhnCfh3ST"
      }
    },
    {
      "cell_type": "markdown",
      "source": [
        "### Aquecimento"
      ],
      "metadata": {
        "id": "6cya3lleh3SU"
      }
    },
    {
      "cell_type": "markdown",
      "source": [
        "#### Questão 1\n",
        "\n",
        "Crie um código para imprimir a soma dos elementos de cada uma das listas contidas na seguinte lista:\n",
        "```\n",
        "lista_de_listas = [[4,6,5,9], [1,0,7,2], [3,4,1,8]]\n",
        "```"
      ],
      "metadata": {
        "id": "MLv8mbbth3SU"
      }
    },
    {
      "cell_type": "code",
      "source": [
        "# Lista de listas\n",
        "lista_de_listas = [[4, 6, 5, 9], [1, 0, 7, 2], [3, 4, 1, 8]]\n",
        "\n",
        "# Iterar sobre cada sublista e imprimir a soma\n",
        "for sublista in lista_de_listas:\n",
        "    soma = sum(sublista)\n",
        "    print(soma)"
      ],
      "metadata": {
        "id": "P9dywp1xh3SU",
        "colab": {
          "base_uri": "https://localhost:8080/"
        },
        "outputId": "223cd5fd-2443-43f8-e4e4-b7a92e175437"
      },
      "execution_count": 10,
      "outputs": [
        {
          "output_type": "stream",
          "name": "stdout",
          "text": [
            "24\n",
            "10\n",
            "16\n"
          ]
        }
      ]
    },
    {
      "cell_type": "markdown",
      "source": [
        "#### Questão 2\n",
        "\n",
        "Crie um código para gerar uma lista que armazena o terceiro elemento de cada tupla contida na seguinte lista de tuplas:\n",
        "```\n",
        "lista_de_tuplas = [('Pedro', 1.74, 81), ('Júlia', 1.65, 67), ('Otávio', 1.81, 83)]\n",
        "```"
      ],
      "metadata": {
        "id": "C72i8R3Ih3SU"
      }
    },
    {
      "cell_type": "code",
      "source": [
        "# Lista de tuplas\n",
        "lista_de_tuplas = [('Pedro', 1.74, 81), ('Júlia', 1.65, 67), ('Otávio', 1.81, 83)]\n",
        "\n",
        "# Gerar uma lista com o terceiro elemento de cada tupla\n",
        "terceiros_elementos = [tupla[2] for tupla in lista_de_tuplas]\n",
        "\n",
        "# Imprimir a lista resultante\n",
        "print(terceiros_elementos)"
      ],
      "metadata": {
        "id": "S9EL1Bvjh3SU",
        "colab": {
          "base_uri": "https://localhost:8080/"
        },
        "outputId": "0a662c54-6d87-498c-edbb-5d0433fc6b07"
      },
      "execution_count": 11,
      "outputs": [
        {
          "output_type": "stream",
          "name": "stdout",
          "text": [
            "[81, 67, 83]\n"
          ]
        }
      ]
    },
    {
      "cell_type": "markdown",
      "source": [
        "#### Questão 3\n",
        "A partir da lista: `lista = ['Pedro', 'Júlia', 'Otávio', 'Eduardo']`, crie um código para gerar uma lista de tuplas em que cada tupla tenha o primeiro elemento como a posição do nome na lista original e o segundo elemento sendo o próprio nome."
      ],
      "metadata": {
        "id": "e5ni69Lwh3SU"
      }
    },
    {
      "cell_type": "code",
      "source": [
        "# Lista original\n",
        "lista = ['Pedro', 'Júlia', 'Otávio', 'Eduardo']\n",
        "\n",
        "# Gerar a lista de tuplas\n",
        "lista_de_tuplas = [(indice, nome) for indice, nome in enumerate(lista)]\n",
        "\n",
        "# Imprimir a lista resultante\n",
        "print(lista_de_tuplas)"
      ],
      "metadata": {
        "id": "x3ckJThph3SU",
        "colab": {
          "base_uri": "https://localhost:8080/"
        },
        "outputId": "847e4814-2a78-4e64-8e55-c0565766c663"
      },
      "execution_count": 12,
      "outputs": [
        {
          "output_type": "stream",
          "name": "stdout",
          "text": [
            "[(0, 'Pedro'), (1, 'Júlia'), (2, 'Otávio'), (3, 'Eduardo')]\n"
          ]
        }
      ]
    },
    {
      "cell_type": "markdown",
      "source": [
        "#### Questão 4\n",
        "Crie uma lista usando o list comprehension, que armazena somente o valor numérico de cada tupla caso o primeiro elemento seja 'Apartamento' a partir da seguinte lista de tuplas:\n",
        "```\n",
        "aluguel = [('Apartamento', 1700), ('Apartamento', 1400), ('Casa', 2150), ('Apartamento', 1900), ('Casa', 1100)]\n",
        "```\n",
        "\n"
      ],
      "metadata": {
        "id": "mtuC2qBLh3SU"
      }
    },
    {
      "cell_type": "code",
      "source": [],
      "metadata": {
        "id": "H1S8yT64h3SU"
      },
      "execution_count": null,
      "outputs": []
    },
    {
      "cell_type": "markdown",
      "source": [
        "#### Questão 5\n",
        "\n",
        "Crie um dicionário usando o dict comprehension em que as chaves estão na lista `meses = ['Jan', 'Fev', 'Mar', 'Abr', 'Mai', 'Jun', 'Jul', 'Ago', 'Set', 'Out', 'Nov', 'Dez']` e os valores estão na lista `despesa = [860, 490, 1010, 780, 900, 630, 590, 770, 620, 560, 840, 360]`\n",
        "\n"
      ],
      "metadata": {
        "id": "Bd-Xp_iKh3SU"
      }
    },
    {
      "cell_type": "code",
      "source": [
        "# Listas de meses e despesas\n",
        "meses = ['Jan', 'Fev', 'Mar', 'Abr', 'Mai', 'Jun', 'Jul', 'Ago', 'Set', 'Out', 'Nov', 'Dez']\n",
        "despesa = [860, 490, 1010, 780, 900, 630, 590, 770, 620, 560, 840, 360]\n",
        "\n",
        "# Criar o dicionário usando dict comprehension\n",
        "dicionario_despesas = {mes: valor for mes, valor in zip(meses, despesa)}\n",
        "\n",
        "# Imprimir o dicionário resultante em formato de coluna\n",
        "print(f\"{'Mês':<5} {'Despesa':<10}\")\n",
        "print(\"-\" * 15)  # Linha de separação\n",
        "for mes, valor in dicionario_despesas.items():\n",
        "    print(f\"{mes:<5} {valor:<10}\")"
      ],
      "metadata": {
        "id": "y7c5ickkh3SV",
        "colab": {
          "base_uri": "https://localhost:8080/"
        },
        "outputId": "3b887649-b06d-44be-935c-1607234ba9b8"
      },
      "execution_count": 17,
      "outputs": [
        {
          "output_type": "stream",
          "name": "stdout",
          "text": [
            "Mês   Despesa   \n",
            "---------------\n",
            "Jan   860       \n",
            "Fev   490       \n",
            "Mar   1010      \n",
            "Abr   780       \n",
            "Mai   900       \n",
            "Jun   630       \n",
            "Jul   590       \n",
            "Ago   770       \n",
            "Set   620       \n",
            "Out   560       \n",
            "Nov   840       \n",
            "Dez   360       \n"
          ]
        }
      ]
    },
    {
      "cell_type": "markdown",
      "source": [
        "### Aplicando a projetos"
      ],
      "metadata": {
        "id": "T9XuUQIph3SU"
      }
    },
    {
      "cell_type": "markdown",
      "source": [
        "#### Questão 6\n",
        "\n",
        "Uma loja possui um banco de dados com a informação de venda de cada representante e de cada ano e precisa filtrar somente os dados do ano 2022 com venda maior do que 6000. A loja forneceu uma amostra contendo apenas as colunas com os anos e os valores de venda para que você ajude a realizar a filtragem dos dados a partir de um código:\n",
        "```\n",
        "vendas = [('2023', 4093), ('2021', 4320), ('2021', 5959), ('2022', 8883), ('2023', 9859), ('2022', 5141), ('2022', 7688), ('2022', 9544), ('2023', 4794), ('2021', 7178), ('2022', 3030), ('2021', 7471), ('2022', 4226), ('2022', 8190), ('2021', 9680), ('2022', 5616)]\n",
        "```\n",
        "Crie uma lista usando list comprehension para filtrar os valores de 2022 e que sejam maiores que 6000.\n"
      ],
      "metadata": {
        "id": "WrgAw6a0h3SV"
      }
    },
    {
      "cell_type": "code",
      "source": [
        "# Lista de vendas\n",
        "vendas = [\n",
        "    ('2023', 4093),\n",
        "    ('2021', 4320),\n",
        "    ('2021', 5959),\n",
        "    ('2022', 8883),\n",
        "    ('2023', 9859),\n",
        "    ('2022', 5141),\n",
        "    ('2022', 7688),\n",
        "    ('2022', 9544),\n",
        "    ('2023', 4794),\n",
        "    ('2021', 7178),\n",
        "    ('2022', 3030),\n",
        "    ('2021', 7471),\n",
        "    ('2022', 4226),\n",
        "    ('2022', 8190),\n",
        "    ('2021', 9680),\n",
        "    ('2022', 5616)\n",
        "]\n",
        "\n",
        "# Filtrar vendas do ano 2022 com valores maiores que 6000\n",
        "vendas_filtradas = [valor for ano, valor in vendas if ano == '2022' and valor > 6000]\n",
        "\n",
        "# Imprimir a lista resultante\n",
        "print(vendas_filtradas)"
      ],
      "metadata": {
        "id": "jQvbtw2sh3SV",
        "colab": {
          "base_uri": "https://localhost:8080/"
        },
        "outputId": "c8a77727-45be-41f6-e29b-eb3eed519b80"
      },
      "execution_count": 14,
      "outputs": [
        {
          "output_type": "stream",
          "name": "stdout",
          "text": [
            "[8883, 7688, 9544, 8190]\n"
          ]
        }
      ]
    },
    {
      "cell_type": "markdown",
      "source": [
        "#### Questão 7\n",
        "\n",
        "Uma clínica analisa dados de pacientes e armazena o valor numérico da glicose em um banco de dados e gostaria de rotular os dados da seguinte maneira:\n",
        "\n",
        "- Glicose igual ou inferior a 70: 'Hipoglicemia'\n",
        "- Glicose entre 70 a 99: 'Normal'\n",
        "- Glicose entre 100 e 125: 'Alterada'\n",
        "- Glicose superior a 125: 'Diabetes'\n",
        "\n",
        "A clínica disponibilizou parte dos valores e sua tarefa é criar uma lista de tuplas usando list comprehension contendo o rótulo e o valor da glicemia em cada tupla.\n",
        "\n",
        "```\n",
        "glicemia = [129, 82, 60, 97, 101, 65, 62, 167, 87, 53, 58, 92, 66, 120, 109, 62, 86, 96, 103, 88, 155, 52, 89, 73]\n",
        "```"
      ],
      "metadata": {
        "id": "8Hl7OgcQh3SV"
      }
    },
    {
      "cell_type": "code",
      "source": [
        "# Lista de valores de glicemia\n",
        "glicemia = [129, 82, 60, 97, 101, 65, 62, 167, 87, 53, 58, 92, 66, 120, 109, 62, 86, 96, 103, 88, 155, 52, 89, 73]\n",
        "\n",
        "# Criar a lista de tuplas com rótulos\n",
        "rotulos_glicemia = [\n",
        "    (valor,\n",
        "     'Hipoglicemia' if valor <= 70 else\n",
        "     'Normal' if 70 < valor < 100 else\n",
        "     'Alterada' if 100 <= valor <= 125 else\n",
        "     'Diabetes')\n",
        "    for valor in glicemia\n",
        "]\n",
        "\n",
        "# Imprimir a lista resultante em formato de coluna\n",
        "print(f\"{'Glicemia':<12} {'Rótulo':<15}\")\n",
        "print(\"-\" * 27)  # Linha de separação\n",
        "for valor, rotulo in rotulos_glicemia:\n",
        "    print(f\"{valor:<12} {rotulo:<15}\")"
      ],
      "metadata": {
        "id": "cIDqBZrxh3SV",
        "colab": {
          "base_uri": "https://localhost:8080/"
        },
        "outputId": "9e7d679f-9b10-4ccf-be9f-5ddd179ef778"
      },
      "execution_count": 16,
      "outputs": [
        {
          "output_type": "stream",
          "name": "stdout",
          "text": [
            "Glicemia     Rótulo         \n",
            "---------------------------\n",
            "129          Diabetes       \n",
            "82           Normal         \n",
            "60           Hipoglicemia   \n",
            "97           Normal         \n",
            "101          Alterada       \n",
            "65           Hipoglicemia   \n",
            "62           Hipoglicemia   \n",
            "167          Diabetes       \n",
            "87           Normal         \n",
            "53           Hipoglicemia   \n",
            "58           Hipoglicemia   \n",
            "92           Normal         \n",
            "66           Hipoglicemia   \n",
            "120          Alterada       \n",
            "109          Alterada       \n",
            "62           Hipoglicemia   \n",
            "86           Normal         \n",
            "96           Normal         \n",
            "103          Alterada       \n",
            "88           Normal         \n",
            "155          Diabetes       \n",
            "52           Hipoglicemia   \n",
            "89           Normal         \n",
            "73           Normal         \n"
          ]
        }
      ]
    },
    {
      "cell_type": "markdown",
      "source": [
        "#### Questão 8\n",
        "Um e-commerce possui as informações de id de venda, quantidade vendida e preço do produto divididos nas seguintes listas:\n",
        "\n",
        "```\n",
        "id = [0, 1, 2, 3, 4, 5, 6, 7, 8, 9]\n",
        "quantidade = [15, 12, 1, 15, 2, 11, 2, 12, 2, 4]\n",
        "preco = [93.0, 102.0, 18.0, 41.0, 122.0, 14.0, 71.0, 48.0, 14.0, 144.0]\n",
        "```\n",
        "\n",
        "O e-commerce precisa estruturar esses dados em uma tabela contendo o valor total da venda, que é obtida multiplicando a quantidade pelo preço unitário. Além disso, tabela precisa conter um cabeçalho indicando as colunas: 'id', 'quantidade', 'preco' e 'total'.\n",
        "\n",
        "Crie uma lista de tuplas em que cada tupla tenha um id, quantidade, preço e valor total, na qual a primeira tupla é o cabeçalho da tabela.\n"
      ],
      "metadata": {
        "id": "twYIfol8h3SV"
      }
    },
    {
      "cell_type": "code",
      "source": [
        "# Listas de dados\n",
        "id = [0, 1, 2, 3, 4, 5, 6, 7, 8, 9]\n",
        "quantidade = [15, 12, 1, 15, 2, 11, 2, 12, 2, 4]\n",
        "preco = [93.0, 102.0, 18.0, 41.0, 122.0, 14.0, 71.0, 48.0, 14.0, 144.0]\n",
        "\n",
        "# Criar a lista de tuplas com o cabeçalho e os dados\n",
        "tabela_vendas = [('id', 'quantidade', 'preco', 'total')]  # Cabeçalho\n",
        "\n",
        "# Adicionar os dados das vendas\n",
        "tabela_vendas += [(id[i], quantidade[i], preco[i], quantidade[i] * preco[i]) for i in range(len(id))]\n",
        "\n",
        "# Imprimir a tabela resultante\n",
        "print(f\"{'ID':<5} {'Quantidade':<10} {'Preço':<10} {'Total':<10}\")\n",
        "print(\"-\" * 40)  # Linha de separação\n",
        "for linha in tabela_vendas[1:]:  # Ignorar o cabeçalho na impressão\n",
        "    print(f\"{linha[0]:<5} {linha[1]:<10} {linha[2]:<10} {linha[3]:<10.2f}\")"
      ],
      "metadata": {
        "id": "XnmvwiIwh3SV",
        "colab": {
          "base_uri": "https://localhost:8080/"
        },
        "outputId": "3733f34d-b698-4c04-e69d-98a69f9cca81"
      },
      "execution_count": 19,
      "outputs": [
        {
          "output_type": "stream",
          "name": "stdout",
          "text": [
            "ID    Quantidade Preço      Total     \n",
            "----------------------------------------\n",
            "0     15         93.0       1395.00   \n",
            "1     12         102.0      1224.00   \n",
            "2     1          18.0       18.00     \n",
            "3     15         41.0       615.00    \n",
            "4     2          122.0      244.00    \n",
            "5     11         14.0       154.00    \n",
            "6     2          71.0       142.00    \n",
            "7     12         48.0       576.00    \n",
            "8     2          14.0       28.00     \n",
            "9     4          144.0      576.00    \n"
          ]
        }
      ]
    },
    {
      "cell_type": "markdown",
      "source": [
        "#### Questão 9\n",
        "\n",
        "Uma empresa possui filiais espalhadas nos estados da região sudeste do Brasil. Em uma das tabelas de cadastro das filiais, há uma coluna contendo a informação de qual é o estado a que pertence:\n",
        "```\n",
        "estados = ['SP', 'ES', 'MG', 'MG', 'SP', 'MG', 'ES', 'ES', 'ES', 'SP', 'SP', 'MG', 'ES', 'SP', 'RJ', 'MG', 'RJ', 'SP', 'MG', 'SP', 'ES', 'SP', 'MG']\n",
        "```\n",
        "\n",
        "A empresa sempre está abrindo novas filiais, de modo que a tabela está constantemente recebendo novos registros e o gestor gostaria de possuir a informação atualizada da quantidade de filiais em cada estado. A partir da coluna com a informação dos estados, crie um dicionário usando dict comprehension com a chave sendo o nome de um estado e o valor sendo a contagem de vezes em que o estado aparece na lista.\n",
        "\n",
        "> Dica: Você pode fazer um passo intermediário para gerar uma lista de listas em que cada uma das listas possui o nome de apenas um estado com valores repetidos."
      ],
      "metadata": {
        "id": "9tMZEiPzh3SV"
      }
    },
    {
      "cell_type": "code",
      "source": [
        "# Lista de vendas\n",
        "vendas = [\n",
        "    ('2023', 4093),\n",
        "    ('2021', 4320),\n",
        "    ('2021', 5959),\n",
        "    ('2022', 8883),\n",
        "    ('2023', 9859),\n",
        "    ('2022', 5141),\n",
        "    ('2022', 7688),\n",
        "    ('2022', 9544),\n",
        "    ('2023', 4794),\n",
        "    ('2021', 7178),\n",
        "    ('2022', 3030),\n",
        "    ('2021', 7471),\n",
        "    ('2022', 4226),\n",
        "    ('2022', 8190),\n",
        "    ('2021', 9680),\n",
        "    ('2022', 5616)\n",
        "]\n",
        "\n",
        "# Filtrar vendas do ano 2022 com valores maiores que 6000\n",
        "vendas_filtradas = [(ano, valor) for ano, valor in vendas if ano == '2022' and valor > 6000]\n",
        "\n",
        "# Imprimir a tabela resultante em formato de coluna\n",
        "print(f\"{'Ano':<10} {'Valor':<10}\")\n",
        "print(\"-\" * 20)  # Linha de separação\n",
        "for ano, valor in vendas_filtradas:\n",
        "    print(f\"{ano:<10} {valor:<10}\")"
      ],
      "metadata": {
        "id": "qXU5UMUih3SV",
        "colab": {
          "base_uri": "https://localhost:8080/"
        },
        "outputId": "499b1826-c78b-43dd-a656-eae5d33fae43"
      },
      "execution_count": 21,
      "outputs": [
        {
          "output_type": "stream",
          "name": "stdout",
          "text": [
            "Ano        Valor     \n",
            "--------------------\n",
            "2022       8883      \n",
            "2022       7688      \n",
            "2022       9544      \n",
            "2022       8190      \n"
          ]
        }
      ]
    },
    {
      "cell_type": "markdown",
      "source": [
        "#### Questão 10\n",
        "\n",
        "Nessa mesma tabela de cadastro de filiais, há uma coluna com as informações da quantidade de funcionários e o gestor gostaria de ter um agrupamento da soma de funcionários para cada estado. As informações contidas na tabela são:\n",
        "\n",
        "```\n",
        "funcionarios = [('SP', 16), ('ES', 8), ('MG', 9), ('MG', 6), ('SP', 10), ('MG', 4), ('ES',9), ('ES', 7), ('ES', 12), ('SP', 7), ('SP', 11), ('MG',8), ('ES',8), ('SP',9), ('RJ', 13), ('MG', 5), ('RJ', 9), ('SP', 12), ('MG', 10), ('SP', 7), ('ES', 14), ('SP', 10), ('MG', 12)]\n",
        "```\n",
        "\n",
        "A partir da lista de tuplas, crie um dicionário em que as chaves são os nomes dos estados únicos e os valores são as listas com o número de funcionários referentes ao estado. Crie também um dicionário em que as chaves são os nomes dos estados e os valores são a soma de funcionários(as) por estado.\n",
        "\n",
        "> Dica: Você pode fazer um passo intermediário para gerar uma lista de listas em que cada uma das listas possui apenas os valores numéricos de funcionários de cada estado.\n"
      ],
      "metadata": {
        "id": "JONqYFZjh3SV"
      }
    },
    {
      "cell_type": "code",
      "source": [
        "# Lista de funcionários\n",
        "funcionarios = [\n",
        "    ('SP', 16), ('ES', 8), ('MG', 9), ('MG', 6), ('SP', 10),\n",
        "    ('MG', 4), ('ES', 9), ('ES', 7), ('ES', 12), ('SP', 7),\n",
        "    ('SP', 11), ('MG', 8), ('ES', 8), ('SP', 9), ('RJ', 13),\n",
        "    ('MG', 5), ('RJ', 9), ('SP', 12), ('MG', 10), ('SP', 7),\n",
        "    ('ES', 14), ('SP', 10), ('MG', 12)\n",
        "]\n",
        "\n",
        "# Dicionário para armazenar a lista de funcionários por estado\n",
        "funcionarios_por_estado = {}\n",
        "\n",
        "# Preencher o dicionário com listas de funcionários\n",
        "for estado, num_funcionarios in funcionarios:\n",
        "    if estado not in funcionarios_por_estado:\n",
        "        funcionarios_por_estado[estado] = []\n",
        "    funcionarios_por_estado[estado].append(num_funcionarios)\n",
        "\n",
        "# Dicionário para armazenar a soma de funcionários por estado\n",
        "soma_funcionarios_por_estado = {estado: sum(funcionarios) for estado, funcionarios in funcionarios_por_estado.items()}\n",
        "\n",
        "# Imprimir os resultados em formato de coluna\n",
        "print(f\"{'Estado':<5} {'Funcionários':<30} {'Soma':<10}\")\n",
        "print(\"-\" * 50)  # Linha de separação\n",
        "\n",
        "# Imprimir a lista de funcionários por estado\n",
        "for estado, lista in funcionarios_por_estado.items():\n",
        "    print(f\"{estado:<5} {str(lista):<30} {soma_funcionarios_por_estado[estado]:<10}\")\n",
        ""
      ],
      "metadata": {
        "id": "lq42ThQNh3SV",
        "colab": {
          "base_uri": "https://localhost:8080/"
        },
        "outputId": "940bdbad-f287-4fe8-c05c-ddda56fcd0cb"
      },
      "execution_count": 22,
      "outputs": [
        {
          "output_type": "stream",
          "name": "stdout",
          "text": [
            "Funcionários por Estado:\n",
            "SP: [16, 10, 7, 11, 9, 12, 7, 10]\n",
            "ES: [8, 9, 7, 12, 8, 14]\n",
            "MG: [9, 6, 4, 8, 5, 10, 12]\n",
            "RJ: [13, 9]\n",
            "\n",
            "Soma de Funcionários por Estado:\n",
            "SP: 82\n",
            "ES: 58\n",
            "MG: 54\n",
            "RJ: 22\n"
          ]
        }
      ]
    },
    {
      "cell_type": "markdown",
      "source": [
        "## Aula 4 - Lidando com exceções"
      ],
      "metadata": {
        "id": "ckCXdwLdjYgM"
      }
    },
    {
      "cell_type": "markdown",
      "source": [
        "### Aquecimento"
      ],
      "metadata": {
        "id": "OPBXL2tLjYgM"
      }
    },
    {
      "cell_type": "markdown",
      "source": [
        "#### Questão 1\n",
        "\n",
        "Faça um programa que solicite à pessoa usuária digitar dois números `float` e calcular a divisão entre esses números. O código deve conter um tratamento de erro, indicando o tipo de erro que foi gerado caso a divisão não seja possível de realizar.\n",
        "\n",
        "Teste o programa com o segundo valor numérico do input igual a 0 e também teste utilizando caracteres textuais no input para checar os tipos de erro que ocorrem."
      ],
      "metadata": {
        "id": "7z7VpY0ujYgM"
      }
    },
    {
      "cell_type": "code",
      "source": [
        "def calcular_divisao():\n",
        "    try:\n",
        "        # Solicitar ao usuário para digitar dois números\n",
        "        num1 = float(input(\"Digite o primeiro número (float): \"))\n",
        "        num2 = float(input(\"Digite o segundo número (float): \"))\n",
        "\n",
        "        # Calcular a divisão\n",
        "        resultado = num1 / num2\n",
        "        print(f\"O resultado da divisão é: {resultado}\")\n",
        "\n",
        "    except ZeroDivisionError as e:\n",
        "        print(type(e), f'Erro: Não é possível dividir por zero.')\n",
        "    except ValueError as e:\n",
        "        print(type(e), f'Erro: Entrada inválida. Por favor, digite números válidos.')\n",
        "    except Exception as e:\n",
        "        print(type(e), f'Erro: {e}')\n",
        "\n",
        "# Chamar a função\n",
        "calcular_divisao()"
      ],
      "metadata": {
        "id": "Zg1CLRTxjYgM",
        "colab": {
          "base_uri": "https://localhost:8080/"
        },
        "outputId": "62259fd7-be37-4c06-97a2-f578022cbad0"
      },
      "execution_count": 3,
      "outputs": [
        {
          "output_type": "stream",
          "name": "stdout",
          "text": [
            "Digite o primeiro número (float): 1\n",
            "Digite o segundo número (float): 0\n",
            "<class 'ZeroDivisionError'> Erro: Não é possível dividir por zero.\n"
          ]
        }
      ]
    },
    {
      "cell_type": "markdown",
      "source": [
        "#### Questão 2\n",
        "\n",
        "Faça um programa que solicite à pessoa usuária digitar um texto que será uma chave a ser pesquisada no seguinte dicionário: `idades = {'Júlia': 16, 'Carol': 23, 'Alberto': 19, 'Roberta': 17}`, armazenando o resultado do valor em uma variável. O código deve conter um tratamento de erro `KeyError`, imprimindo a informação 'Nome não encontrado' caso ocorra o erro e imprimir o valor caso não ocorra nenhum.\n",
        "\n",
        "Teste o programa com um nome presente em uma das chaves do dicionário e com um que não esteja no dicionário para verificar a mensagem de erro.\n",
        "\n"
      ],
      "metadata": {
        "id": "KYgeJS5ljYgM"
      }
    },
    {
      "cell_type": "code",
      "source": [
        "def buscar_idade():\n",
        "    # Dicionário com nomes e idades\n",
        "    idades = {'Júlia': 16, 'Carol': 23, 'Alberto': 19, 'Roberta': 17}\n",
        "\n",
        "    # Solicitar ao usuário para digitar um nome\n",
        "    nome = input(\"Digite o nome da pessoa para buscar a idade: \")\n",
        "\n",
        "    try:\n",
        "        # Tentar acessar a idade pelo nome\n",
        "        idade = idades[nome]\n",
        "        print(f\"A idade de {nome} é: {idade}\")\n",
        "    except KeyError:\n",
        "        # Tratamento de erro caso o nome não seja encontrado\n",
        "        print(\"Nome não encontrado.\")\n",
        "\n",
        "# Chamar a função\n",
        "buscar_idade()"
      ],
      "metadata": {
        "id": "mcTh-_tDjYgM",
        "colab": {
          "base_uri": "https://localhost:8080/"
        },
        "outputId": "e3291e07-a2fb-4f9e-962f-0a4d72733949"
      },
      "execution_count": 5,
      "outputs": [
        {
          "output_type": "stream",
          "name": "stdout",
          "text": [
            "Digite o nome da pessoa para buscar a idade: Carol\n",
            "A idade de Carol é: 23\n"
          ]
        }
      ]
    },
    {
      "cell_type": "markdown",
      "source": [
        "#### Questão 3\n",
        "Crie uma função que recebe uma lista como parâmetro e converta todos os valores da lista para `float`. A função deve conter um tratamento de erro indicando o tipo de erro gerado e retornar a lista caso não tenha ocorrido nenhum erro. Por fim, deve ter a cláusula `finally` para imprimir o texto: 'Fim da execução da função'."
      ],
      "metadata": {
        "id": "tGQNNI_PjYgM"
      }
    },
    {
      "cell_type": "code",
      "source": [
        "def converter_para_float(lista):\n",
        "    try:\n",
        "        # Tentar converter todos os elementos da lista para float\n",
        "        lista_float = [float(item) for item in lista]\n",
        "        return lista_float\n",
        "    except Exception as e:\n",
        "        # Indicar o tipo de erro gerado\n",
        "        print(type(e), f'Erro: {e}')\n",
        "    finally:\n",
        "        # Mensagem que será impressa ao final da execução da função\n",
        "        print('Fim da execução da função.')\n",
        "\n",
        "# Exemplo de uso da função\n",
        "# Testando com uma lista que contém valores válidos e inválidos\n",
        "valores = ['10', '20.5', '10', '30']\n",
        "resultado = converter_para_float(valores)\n",
        "\n",
        "if resultado is not None:\n",
        "    print(\"Lista convertida:\", resultado)"
      ],
      "metadata": {
        "id": "1oflR6ywjYgN",
        "colab": {
          "base_uri": "https://localhost:8080/"
        },
        "outputId": "bc4bd31d-92cf-4a3d-cfb4-0415ab831fc6"
      },
      "execution_count": 7,
      "outputs": [
        {
          "output_type": "stream",
          "name": "stdout",
          "text": [
            "Fim da execução da função.\n",
            "Lista convertida: [10.0, 20.5, 10.0, 30.0]\n"
          ]
        }
      ]
    },
    {
      "cell_type": "markdown",
      "source": [
        "#### Questão 4\n",
        "Crie uma função que recebe duas listas como parâmetros e agrupe os elementos um a um das listas, formando uma lista de tuplas de 3 elementos, onde o primeiro e segundo elemento da tupla são os valores na posição `i` das listas e o terceiro elemento é a soma dos valores na posição `i` das listas. A função deve conter um tratamento de erro indicando o tipo de erro gerado e retornar como resultado a lista de tuplas. Caso as listas enviadas como parâmetro tenham tamanhos diferentes, a função deve retornar um IndexError com a frase: 'A quantidade de elementos em cada lista é diferente.'\n",
        "\n",
        "Dados para testar a função:\n",
        "\n",
        "Valores sem erro:\n",
        "```\n",
        "lista1 = [4,6,7,9,10]\n",
        "lista 2 = [-4,6,8,7,9]\n",
        "```\n",
        "Listas com tamanhos diferentes:\n",
        "\n",
        "```\n",
        "lista1 = [4,6,7,9,10,4]\n",
        "lista 2 = [-4,6,8,7,9]\n",
        "```\n",
        "Listas com valores incoerentes:\n",
        "\n",
        "```\n",
        "lista1 = [4,6,7,9,'A']\n",
        "lista 2 = [-4,'E',8,7,9]\n",
        "```"
      ],
      "metadata": {
        "id": "WWE44VS4jYgN"
      }
    },
    {
      "cell_type": "code",
      "source": [
        "def agrupar_listas(lista1, lista2):\n",
        "    try:\n",
        "        # Verificar se as listas têm tamanhos diferentes\n",
        "        if len(lista1) != len(lista2):\n",
        "            raise IndexError(\"A quantidade de elementos em cada lista é diferente.\")\n",
        "\n",
        "        # Criar a lista de tuplas\n",
        "        lista_tuplas = []\n",
        "        for i in range(len(lista1)):\n",
        "            # Calcular a soma dos elementos\n",
        "            soma = lista1[i] + lista2[i]\n",
        "            # Criar a tupla e adicionar à lista\n",
        "            lista_tuplas.append((lista1[i], lista2[i], soma))\n",
        "\n",
        "        return lista_tuplas\n",
        "\n",
        "    except IndexError as e:\n",
        "        print(type(e), f'Erro: {e}')\n",
        "    except TypeError as e:\n",
        "        print(type(e), f'Erro: Não é possível somar elementos não numéricos.')\n",
        "    except Exception as e:\n",
        "        print(type(e), f'Erro: {e}')\n",
        "\n",
        "# Testando a função com diferentes casos\n",
        "\n",
        "# Valores sem erro\n",
        "lista1 = [4, 6, 7, 9, 10]\n",
        "lista2 = [-4, 6, 8, 7, 9]\n",
        "resultado = agrupar_listas(lista1, lista2)\n",
        "if resultado is not None:\n",
        "    print(\"Resultado sem erro:\", resultado)\n",
        "\n",
        "# Listas com tamanhos diferentes\n",
        "lista1 = [4, 6, 7, 9, 10, 4]\n",
        "lista2 = [-4, 6, 8, 7, 9]\n",
        "resultado = agrupar_listas(lista1, lista2)\n",
        "\n",
        "# Listas com valores incoerentes\n",
        "lista1 = [4, 6, 7, 9, 'A']\n",
        "lista2 = [-4, 'E', 8, 7, 9]\n",
        "resultado = agrupar_listas(lista1, lista2)"
      ],
      "metadata": {
        "id": "iMjbUztBjYgN",
        "colab": {
          "base_uri": "https://localhost:8080/"
        },
        "outputId": "ae3fbfe5-2e32-4ca0-d885-30007b97f2a6"
      },
      "execution_count": 8,
      "outputs": [
        {
          "output_type": "stream",
          "name": "stdout",
          "text": [
            "Resultado sem erro: [(4, -4, 0), (6, 6, 12), (7, 8, 15), (9, 7, 16), (10, 9, 19)]\n",
            "<class 'IndexError'> Erro: A quantidade de elementos em cada lista é diferente.\n",
            "<class 'TypeError'> Erro: Não é possível somar elementos não numéricos.\n"
          ]
        }
      ]
    },
    {
      "cell_type": "markdown",
      "source": [
        "### Aplicando a projetos"
      ],
      "metadata": {
        "id": "vNSw4u6hjYgN"
      }
    },
    {
      "cell_type": "markdown",
      "source": [
        "#### Questão 5\n",
        "\n",
        "Você recebeu como desafio desenvolver um código que contabiliza as pontuações de estudantes de uma instituição de ensino de acordo com suas respostas num teste.\n",
        "\n",
        "Este código deve ser testado para um exemplo de 3 estudantes com uma lista de listas em que cada lista possui as respostas de 5 questões objetivas de cada estudante. Cada questão vale um ponto e as alternativas possíveis são A, B, C ou D.\n",
        "\n",
        "Caso alguma alternativa em um dos testes não esteja entre as alternativas possíveis você deve lançar um **ValueError** com a mensagem `\"A alternativa [alternativa] não é uma opção de alternativa válida\"`. O cálculo das 3 notas só será realizado mediante as entradas com as alternativas A, B, C ou D em todos os testes.\n",
        "\n",
        "Se não for lançada a exceção, será exibida uma lista com as notas em cada teste.\n",
        "\n",
        "Os dados para o teste do código são:\n",
        "\n",
        "- **Gabarito da prova**:\n",
        "```\n",
        "gabarito = ['D', 'A', 'B', 'C', 'A']\n",
        "```\n",
        "Abaixo temos 2 listas de listas que você pode usar como teste\n",
        "\n",
        "- **Notas sem exceção:**\n",
        "```\n",
        "testes_sem_ex = [['D', 'A', 'B', 'C', 'A'], ['C', 'A', 'A', 'C', 'A'], ['D', 'B', 'A', 'C', 'A']]\n",
        "```\n",
        "- **Notas com exceção:**\n",
        "```\n",
        "testes_com_ex = [['D', 'A', 'B', 'C', 'A'], ['C', 'A', 'A', 'E', 'A'], ['D', 'B', 'A', 'C', 'A']]\n",
        "```\n",
        "\n",
        "> Dica: Para verificar se uma entrada da lista não está entre as alternativas possíveis use a estrutura `lista[i] not in ['A','B','C','D']` (Por exemplo, `1 not in [2,3,4]`... Saída: `True`)"
      ],
      "metadata": {
        "id": "AHC6OFQDjYgN"
      }
    },
    {
      "cell_type": "code",
      "source": [
        " Função para correção das notas\n"
      ],
      "metadata": {
        "id": "n7AJhrMpjYgN"
      },
      "execution_count": null,
      "outputs": []
    },
    {
      "cell_type": "code",
      "source": [
        " Testando no exemplo que não lança exceção\n"
      ],
      "metadata": {
        "id": "o_05pMigo-tR"
      },
      "execution_count": null,
      "outputs": []
    },
    {
      "cell_type": "code",
      "source": [
        " Testando no exemplo que lança exceção\n"
      ],
      "metadata": {
        "id": "PWeHm6Fjo-at"
      },
      "execution_count": null,
      "outputs": []
    },
    {
      "cell_type": "markdown",
      "source": [
        "#### Questão 6\n",
        "\n",
        "Você está trabalhando com processamento de linguagem natural ([NLP](https://www.alura.com.br/artigos/guia-nlp-conceitos-tecnicas)) e, dessa vez, sua líder requisitou que você criasse um trecho de código que recebe uma lista com as palavras separadas de uma frase gerada pelo ChatGPT.\n",
        "\n",
        "Você precisa criar uma função que avalia cada palavra desse texto e verificar se o tratamento para retirar os símbolos de pontuação (',' '.', '!' e '?') foi realizado. Caso contrário, será lançada uma exceção do tipo **ValueError** apontando o 1º caso em que foi detectado o uso de uma pontuação por meio da frase `\"O texto apresenta pontuações na palavra \"[palavra]\".\"`.\n",
        "\n",
        "Essa demanda é voltada para a análise do padrão de frases geradas pela inteligência artificial.\n",
        "\n",
        "> Dica: Para verificar se uma ou mais das pontuações estão presentes em cada palavra, utilize a palavra chave `or` na condição if (Por exemplo, `('a' or 'b') in 'alura'` ... Saída: `True`)\n",
        "\n",
        "Os dados para o teste do código são:\n",
        "\n",
        "- **Lista tratada:**\n",
        "```\n",
        "lista_tratada = ['Python', 'é', 'uma', 'linguagem', 'de', 'programação', 'poderosa', 'versátil',\n",
        "                  'e', 'fácil', 'de', 'aprender', 'utilizada', 'em', 'diversos', 'campos', 'desde',\n",
        "                  'análise', 'de', 'dados', 'até', 'inteligência', 'artificial']\n",
        "```\n",
        "- **Lista não tratada:**\n",
        "```\n",
        "lista_nao_tratada = ['Python', 'é', 'uma', 'linguagem', 'de', 'programação', 'poderosa,', 'versátil',\n",
        "                  'e', 'fácil,', 'de', 'aprender', 'utilizada', 'em', 'diversos', 'campos,', 'desde',\n",
        "                  'análise', 'de', 'dados', 'até', 'inteligência', 'artificial!']\n",
        "```\n"
      ],
      "metadata": {
        "id": "AjQWxSIq28Ac"
      }
    },
    {
      "cell_type": "code",
      "source": [
        "# criando a função que recebe a lista de palavras\n",
        "def verificar_pontuacao(lista):\n",
        "    # Definindo os símbolos de pontuação a serem verificados\n",
        "    pontuacoes = [',', '.', '!', '?']\n",
        "\n",
        "    for palavra in lista:\n",
        "        # Verifica se a palavra contém alguma pontuação\n",
        "        if any(pontuacao in palavra for pontuacao in pontuacoes):\n",
        "            raise ValueError(f'O texto apresenta pontuações na palavra \"{palavra}\".')\n",
        "\n",
        "    print(\"Nenhuma pontuação encontrada nas palavras.\")"
      ],
      "metadata": {
        "id": "gxVg1sc_xACI"
      },
      "execution_count": 9,
      "outputs": []
    },
    {
      "cell_type": "code",
      "source": [
        "# Testando a função com a lista tratada (não deve lançar exceção)\n",
        "lista_tratada = [\n",
        "    'Python', 'é', 'uma', 'linguagem', 'de', 'programação', 'poderosa', 'versátil',\n",
        "    'e', 'fácil', 'de', 'aprender', 'utilizada', 'em', 'diversos', 'campos', 'desde',\n",
        "    'análise', 'de', 'dados', 'até', 'inteligência', 'artificial'\n",
        "]\n",
        "\n",
        "try:\n",
        "    verificar_pontuacao(lista_tratada)\n",
        "except ValueError as e:\n",
        "    print(e)"
      ],
      "metadata": {
        "id": "gDvOq79slmlJ",
        "colab": {
          "base_uri": "https://localhost:8080/"
        },
        "outputId": "9b147c8c-d76f-4040-f98f-d042ff290bfa"
      },
      "execution_count": 10,
      "outputs": [
        {
          "output_type": "stream",
          "name": "stdout",
          "text": [
            "Nenhuma pontuação encontrada nas palavras.\n"
          ]
        }
      ]
    },
    {
      "cell_type": "code",
      "source": [
        "# Testando a função com a lista não tratada (deve lançar exceção)\n",
        "lista_nao_tratada = [\n",
        "    'Python', 'é', 'uma', 'linguagem', 'de', 'programação', 'poderosa,', 'versátil',\n",
        "    'e', 'fácil,', 'de', 'aprender', 'utilizada', 'em', 'diversos', 'campos,', 'desde',\n",
        "    'análise', 'de', 'dados', 'até', 'inteligência', 'artificial!'\n",
        "]\n",
        "\n",
        "try:\n",
        "    verificar_pontuacao(lista_nao_tratada)\n",
        "except ValueError as e:\n",
        "    print(e)"
      ],
      "metadata": {
        "id": "PQADJf42woaw",
        "colab": {
          "base_uri": "https://localhost:8080/"
        },
        "outputId": "9b837aef-0439-49ff-d175-b269924edc9c"
      },
      "execution_count": 11,
      "outputs": [
        {
          "output_type": "stream",
          "name": "stdout",
          "text": [
            "O texto apresenta pontuações na palavra \"poderosa,\".\n"
          ]
        }
      ]
    },
    {
      "cell_type": "markdown",
      "source": [
        "#### Questão 7\n",
        "Você foi contratado como uma pessoa cientista de dados para auxiliar um laboratório que faz experimentos sobre o comportamento de uma cultura de fungos. O laboratório precisa avaliar constantemente a razão (divisão) entre os dados de pressão e temperatura do ambiente controlado recolhidos durante a experimentação para definir a melhor condição para os testes.\n",
        "\n",
        "Para cumprir com a demanda, você precisa criar uma função `divide_colunas` que recebe os dados das colunas de pressão e temperatura (que vem no formato de listas) e gerar uma nova coluna com o resultado da divisão. Os parâmetros da função são as duas listas e você deve tratar dentro dela ao menos 2 tipos de exceções:   \n",
        "- Verificar se as listas têm o mesmo tamanho (ValueError)\n",
        "- Verificar se existe alguma divisão por zero (ZeroDivisionError)\n",
        "\n",
        "Para testar a função, vamos realizar a divisão entre duas listas de dados coletados no experimento, com os valores de pressão e temperatura do ambiente controlado.\n",
        "\n",
        "Como teste, use os seguintes dados:\n",
        "\n",
        "- **Dados sem exceção:**\n",
        "```\n",
        "pressoes = [100, 120, 140, 160, 180]\n",
        "temperaturas = [20, 25, 30, 35, 40]\n",
        "```\n",
        "- **Dados com exceção:**\n",
        "1. Exceção de ZeroDivisionError\n",
        "```\n",
        "pressoes = [60, 120, 140, 160, 180]\n",
        "temperaturas = [0, 25, 30, 35, 40]\n",
        "```\n",
        "2. Exceção de ValueError\n",
        "```\n",
        "pressoes = [100, 120, 140, 160]\n",
        "temperaturas = [20, 25, 30, 35, 40]\n",
        "```\n",
        "\n",
        "> Dica: Você pode usar `zip()` para parear os dados da lista_1 com a lista_2. Crie uma estrutura try-except que caso uma das exceções sejam lançadas, podemos ver o tipo de erro na saída.\n"
      ],
      "metadata": {
        "id": "3IhndsTyzdRq"
      }
    },
    {
      "cell_type": "code",
      "source": [],
      "metadata": {
        "id": "pYofyZVsuF2Y"
      },
      "execution_count": null,
      "outputs": []
    },
    {
      "cell_type": "code",
      "source": [
        "def divide_colunas(pressoes, temperaturas):\n",
        "    try:\n",
        "        # Verificar se as listas têm o mesmo tamanho\n",
        "        if len(pressoes) != len(temperaturas):\n",
        "            raise ValueError(\"As listas de pressões e temperaturas devem ter o mesmo tamanho.\")\n",
        "\n",
        "        # Criar uma nova lista para armazenar os resultados da divisão\n",
        "        resultados = []\n",
        "\n",
        "        # Realizar a divisão usando zip para parear os dados\n",
        "        for pressao, temperatura in zip(pressoes, temperaturas):\n",
        "            # Verificar se a temperatura é zero para evitar divisão por zero\n",
        "            if temperatura == 0:\n",
        "                raise ZeroDivisionError(\"Divisão por zero detectada.\")\n",
        "            # Calcular a razão e adicionar à lista de resultados\n",
        "            resultados.append(pressao / temperatura)\n",
        "\n",
        "        return resultados\n",
        "\n",
        "    except ValueError as e:\n",
        "        print(type(e), f'Erro: {e}')\n",
        "    except ZeroDivisionError as e:\n",
        "        print(type(e), f'Erro: {e}')\n",
        "    except Exception as e:\n",
        "        print(type(e), f'Erro: {e}')\n",
        "\n",
        "# Testando a função com dados sem exceção\n",
        "pressoes = [100, 120, 140, 160, 180]\n",
        "temperaturas = [20, 25, 30, 35, 40]\n",
        "\n",
        "try:\n",
        "    resultados = divide_colunas(pressoes, temperaturas)\n",
        "    print(\"Resultados sem exceção:\", resultados)\n",
        "except Exception as e:\n",
        "    print(e)"
      ],
      "metadata": {
        "id": "gSvAEmxit1zI",
        "colab": {
          "base_uri": "https://localhost:8080/"
        },
        "outputId": "34a85be7-eff2-47f5-b26c-6ee28db7feec"
      },
      "execution_count": 14,
      "outputs": [
        {
          "output_type": "stream",
          "name": "stdout",
          "text": [
            "Resultados sem exceção: [5.0, 4.8, 4.666666666666667, 4.571428571428571, 4.5]\n"
          ]
        }
      ]
    },
    {
      "cell_type": "code",
      "source": [
        "# Testando a função com dados que causam ZeroDivisionError\n",
        "pressoes = [60, 120, 140, 160, 180]\n",
        "temperaturas = [0, 25, 30, 35, 40]\n",
        "\n",
        "try:\n",
        "    resultados = divide_colunas(pressoes, temperaturas)\n",
        "except Exception as e:\n",
        "    print(e)\n"
      ],
      "metadata": {
        "id": "bvebuMOot4ur",
        "colab": {
          "base_uri": "https://localhost:8080/"
        },
        "outputId": "0971fae2-8095-4966-ea22-d317da2a8b44"
      },
      "execution_count": 15,
      "outputs": [
        {
          "output_type": "stream",
          "name": "stdout",
          "text": [
            "<class 'ZeroDivisionError'> Erro: Divisão por zero detectada.\n"
          ]
        }
      ]
    },
    {
      "cell_type": "code",
      "source": [
        "# Testando a função com dados que causam ValueError\n",
        "pressoes = [100, 120, 140, 160]\n",
        "temperaturas = [20, 25, 30, 35, 40]\n",
        "\n",
        "try:\n",
        "    resultados = divide_colunas(pressoes, temperaturas)\n",
        "except Exception as e:\n",
        "    print(e)\n"
      ],
      "metadata": {
        "id": "sFsfTVHqt4d5",
        "colab": {
          "base_uri": "https://localhost:8080/"
        },
        "outputId": "b17c129c-6406-46b5-a35b-67edd70fb216"
      },
      "execution_count": 16,
      "outputs": [
        {
          "output_type": "stream",
          "name": "stdout",
          "text": [
            "<class 'ValueError'> Erro: As listas de pressões e temperaturas devem ter o mesmo tamanho.\n"
          ]
        }
      ]
    }
  ]
}